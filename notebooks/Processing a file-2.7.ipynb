{
 "cells": [
  {
   "cell_type": "markdown",
   "metadata": {},
   "source": [
    "<center><h1> Notebook for processing one file</h1>\n",
    "*Scott Collis, Jonathan Helmus, Kirk North, Tim Lang*\n",
    "</center>\n"
   ]
  },
  {
   "cell_type": "code",
   "execution_count": 1,
   "metadata": {
    "collapsed": false
   },
   "outputs": [
    {
     "name": "stdout",
     "output_type": "stream",
     "text": [
      "\n",
      "## You are using the Python ARM Radar Toolkit (Py-ART), an open source\n",
      "## library for working with weather radar data.\n",
      "##\n",
      "## If you use this software to prepare a publication, please cite:\n",
      "##\n",
      "##     JJ Helmus and SM Collis, JORS 2016, doi: 10.5334/jors.119 \n"
     ]
    },
    {
     "name": "stderr",
     "output_type": "stream",
     "text": [
      "/Users/scollis/anaconda/lib/python2.7/site-packages/ipykernel/pylab/config.py:66: DeprecationWarning: metadata {'config': True} was set from the constructor.  Metadata should be set using the .tag() method, e.g., Int().tag(key1='value1', key2='value2')\n",
      "  inline backend.\"\"\"\n",
      "/Users/scollis/anaconda/lib/python2.7/site-packages/ipykernel/pylab/config.py:71: DeprecationWarning: metadata {'config': True} was set from the constructor.  Metadata should be set using the .tag() method, e.g., Int().tag(key1='value1', key2='value2')\n",
      "  'retina', 'jpeg', 'svg', 'pdf'.\"\"\")\n",
      "/Users/scollis/anaconda/lib/python2.7/site-packages/ipykernel/pylab/config.py:85: DeprecationWarning: metadata {'config': True} was set from the constructor.  Metadata should be set using the .tag() method, e.g., Int().tag(key1='value1', key2='value2')\n",
      "  use `figure_formats` instead)\"\"\")\n",
      "/Users/scollis/anaconda/lib/python2.7/site-packages/ipykernel/pylab/config.py:95: DeprecationWarning: metadata {'config': True} was set from the constructor.  Metadata should be set using the .tag() method, e.g., Int().tag(key1='value1', key2='value2')\n",
      "  \"\"\"\n",
      "/Users/scollis/anaconda/lib/python2.7/site-packages/ipykernel/pylab/config.py:114: DeprecationWarning: metadata {'config': True} was set from the constructor.  Metadata should be set using the .tag() method, e.g., Int().tag(key1='value1', key2='value2')\n",
      "  \"\"\")\n",
      "/Users/scollis/anaconda/lib/python2.7/site-packages/ipykernel/pylab/config.py:44: DeprecationWarning: InlineBackend._config_changed is deprecated: use @observe and @unobserve instead.\n",
      "  def _config_changed(self, name, old, new):\n",
      "/Users/scollis/anaconda/lib/python2.7/site-packages/traitlets/traitlets.py:770: DeprecationWarning: A parent of InlineBackend._config_changed has adopted the new @observe(change) API\n",
      "  clsname, change_or_name), DeprecationWarning)\n",
      "/Users/scollis/anaconda/lib/python2.7/site-packages/IPython/core/formatters.py:98: DeprecationWarning: DisplayFormatter._formatters_default is deprecated: use @default decorator instead.\n",
      "  def _formatters_default(self):\n",
      "/Users/scollis/anaconda/lib/python2.7/site-packages/IPython/core/formatters.py:677: DeprecationWarning: PlainTextFormatter._deferred_printers_default is deprecated: use @default decorator instead.\n",
      "  def _deferred_printers_default(self):\n",
      "/Users/scollis/anaconda/lib/python2.7/site-packages/IPython/core/formatters.py:669: DeprecationWarning: PlainTextFormatter._singleton_printers_default is deprecated: use @default decorator instead.\n",
      "  def _singleton_printers_default(self):\n",
      "/Users/scollis/anaconda/lib/python2.7/site-packages/IPython/core/formatters.py:672: DeprecationWarning: PlainTextFormatter._type_printers_default is deprecated: use @default decorator instead.\n",
      "  def _type_printers_default(self):\n",
      "/Users/scollis/anaconda/lib/python2.7/site-packages/IPython/core/formatters.py:672: DeprecationWarning: PlainTextFormatter._type_printers_default is deprecated: use @default decorator instead.\n",
      "  def _type_printers_default(self):\n",
      "/Users/scollis/anaconda/lib/python2.7/site-packages/IPython/core/formatters.py:677: DeprecationWarning: PlainTextFormatter._deferred_printers_default is deprecated: use @default decorator instead.\n",
      "  def _deferred_printers_default(self):\n"
     ]
    }
   ],
   "source": [
    "#needs to be running under pyart35 environment\n",
    "import pyart\n",
    "from matplotlib import pyplot as plt\n",
    "import matplotlib\n",
    "import numpy as np\n",
    "from scipy import ndimage, signal, integrate\n",
    "import time\n",
    "import copy\n",
    "import netCDF4\n",
    "import skfuzzy as fuzz\n",
    "import datetime\n",
    "import platform\n",
    "import fnmatch\n",
    "import os\n",
    "%matplotlib inline"
   ]
  },
  {
   "cell_type": "code",
   "execution_count": 2,
   "metadata": {
    "collapsed": false
   },
   "outputs": [],
   "source": [
    "my_system = platform.system()\n",
    "if my_system == 'Darwin':\n",
    "    top = '/data/sample_sapr_data/sgpstage/sur/'\n",
    "    soundings_dir = '/data/sample_sapr_data/sgpstage/interp_sonde/'\n",
    "elif my_system == 'Linux':\n",
    "    top = '/lcrc/group/earthscience/radar/sgpstage/sur/'\n",
    "    soundings_dir = '/lcrc/group/earthscience/radar/interp_sonde/'"
   ]
  },
  {
   "cell_type": "code",
   "execution_count": 3,
   "metadata": {
    "collapsed": false
   },
   "outputs": [
    {
     "name": "stdout",
     "output_type": "stream",
     "text": [
      "['differential_phase', 'cross_correlation_ratio', 'normalized_coherent_power', 'spectrum_width', 'reflectivity', 'differential_reflectivity', 'specific_differential_phase', 'velocity']\n"
     ]
    }
   ],
   "source": [
    "radar = pyart.io.read('/data/sample_sapr_data/sgpstage/sur/20110520/110635.mdv')\n",
    "print(radar.fields.keys())\n"
   ]
  },
  {
   "cell_type": "code",
   "execution_count": 4,
   "metadata": {
    "collapsed": true
   },
   "outputs": [],
   "source": [
    "i_end = 975\n",
    "radar.range['data']=radar.range['data'][0:i_end]\n",
    "for key in radar.fields.keys():\n",
    "    radar.fields[key]['data']= radar.fields[key]['data'][:, 0:i_end]\n",
    "radar.ngates = i_end"
   ]
  },
  {
   "cell_type": "code",
   "execution_count": 5,
   "metadata": {
    "collapsed": false
   },
   "outputs": [
    {
     "name": "stdout",
     "output_type": "stream",
     "text": [
      "2011-05-20 11:01:00\n",
      "20110520 110100\n"
     ]
    }
   ],
   "source": [
    "#guess a whole heap of data\n",
    "radar_start_date = netCDF4.num2date(radar.time['data'][0], radar.time['units'])\n",
    "print(radar_start_date)\n",
    "ymd_string = datetime.datetime.strftime(radar_start_date, '%Y%m%d')\n",
    "hms_string = datetime.datetime.strftime(radar_start_date, '%H%M%S')\n",
    "print(ymd_string, hms_string)"
   ]
  },
  {
   "cell_type": "code",
   "execution_count": 6,
   "metadata": {
    "collapsed": false
   },
   "outputs": [
    {
     "name": "stdout",
     "output_type": "stream",
     "text": [
      "sgpinterpolatedsondeC1.c1.20110520.*.cdf sgpinterpolatedsondeC1.c1.20110520.000000.cdf\n"
     ]
    }
   ],
   "source": [
    "sonde_pattern = datetime.datetime.strftime(radar_start_date,'sgpinterpolatedsondeC1.c1.%Y%m%d.*.cdf')\n",
    "all_sonde_files = os.listdir(soundings_dir)\n",
    "sonde_name = fnmatch.filter(all_sonde_files, sonde_pattern)[0]\n",
    "print(sonde_pattern,sonde_name)"
   ]
  },
  {
   "cell_type": "code",
   "execution_count": 7,
   "metadata": {
    "collapsed": false
   },
   "outputs": [],
   "source": [
    "interp_sonde = netCDF4.Dataset(os.path.join( soundings_dir, sonde_name))\n",
    "temperatures = interp_sonde.variables['temp'][:]\n",
    "times = interp_sonde.variables['time'][:]\n",
    "heights = interp_sonde.variables['height'][:]\n",
    "my_profile = pyart.retrieve.fetch_radar_time_profile(interp_sonde, radar)\n",
    "info_dict = {'long_name': 'Sounding temperature at gate',\n",
    "             'standard_name' : 'temperature',\n",
    "             'valid_min' : -100,\n",
    "             'valid_max' : 100,\n",
    "             'units' : 'degrees Celsius'}\n",
    "z_dict, temp_dict = pyart.retrieve.map_profile_to_gates( my_profile['temp'], \n",
    "                                         my_profile['height']*1000.0, \n",
    "                                         radar)\n",
    "radar.add_field('sounding_temperature', temp_dict, replace_existing = True)\n",
    "radar.add_field('height', z_dict, replace_existing = True)\n",
    "snr = pyart.retrieve.calculate_snr_from_reflectivity(radar)\n",
    "radar.add_field('SNR', snr, replace_existing = True)\n"
   ]
  },
  {
   "cell_type": "code",
   "execution_count": 5,
   "metadata": {
    "collapsed": false
   },
   "outputs": [
    {
     "name": "stdout",
     "output_type": "stream",
     "text": [
      "Unfolding\n"
     ]
    },
    {
     "name": "stderr",
     "output_type": "stream",
     "text": [
      "/Users/scollis/anaconda/lib/python2.7/site-packages/pyart/correct/phase_proc.py:188: RuntimeWarning: invalid value encountered in sqrt\n",
      "  noise = smooth_and_trim(np.sqrt((line - signal) ** 2), window_len=wl)\n"
     ]
    },
    {
     "name": "stdout",
     "output_type": "stream",
     "text": [
      "Exec time:  14.1072981358\n",
      "Doing  0\n"
     ]
    },
    {
     "name": "stderr",
     "output_type": "stream",
     "text": [
      "/Users/scollis/anaconda/lib/python2.7/site-packages/pyart/correct/phase_proc.py:589: MaskedArrayFutureWarning: setting an item on a masked array which has a shared mask will not copy the mask and also change the original mask array in the future.\n",
      "Check the NumPy 1.11 release notes for more information.\n",
      "  sct[np.where(sct < 0.0)] = 0.0\n",
      "/Users/scollis/anaconda/lib/python2.7/site-packages/cylp-0.7.1-py2.7-macosx-10.6-x86_64.egg/cylp/py/modeling/CyLPModel.py:372: FutureWarning: comparison to `None` will result in an elementwise object comparison in the future.\n",
      "  if left == None:\n",
      "/Users/scollis/anaconda/lib/python2.7/site-packages/cylp-0.7.1-py2.7-macosx-10.6-x86_64.egg/cylp/py/utils/sparseUtil.py:388: FutureWarning: comparison to `None` will result in an elementwise object comparison in the future.\n",
      "  if b == None:\n",
      "/Users/scollis/anaconda/lib/python2.7/site-packages/pyart/correct/phase_proc.py:925: FutureWarning: comparison to `None` will result in an elementwise object comparison in the future.\n",
      "  s = CyClpSimplex(model)\n"
     ]
    },
    {
     "name": "stdout",
     "output_type": "stream",
     "text": [
      "Doing  1\n",
      "Doing  2\n",
      "Doing  3\n",
      "Doing  4\n",
      "Doing  5\n",
      "Doing  6\n",
      "Doing  7\n",
      "Doing  8\n",
      "Doing  9\n",
      "Doing  10\n",
      "Doing  11\n",
      "Doing  12\n",
      "Doing  13\n",
      "Doing  14\n",
      "Doing  15\n",
      "Doing  16\n"
     ]
    }
   ],
   "source": [
    "phidp, kdp = pyart.correct.phase_proc_lp(radar, 0.0, debug=True, fzl=3500.0)"
   ]
  },
  {
   "cell_type": "code",
   "execution_count": null,
   "metadata": {
    "collapsed": true
   },
   "outputs": [],
   "source": []
  }
 ],
 "metadata": {
  "kernelspec": {
   "display_name": "Python [Root]",
   "language": "python",
   "name": "Python [Root]"
  },
  "language_info": {
   "codemirror_mode": {
    "name": "ipython",
    "version": 2
   },
   "file_extension": ".py",
   "mimetype": "text/x-python",
   "name": "python",
   "nbconvert_exporter": "python",
   "pygments_lexer": "ipython2",
   "version": "2.7.11"
  }
 },
 "nbformat": 4,
 "nbformat_minor": 0
}
