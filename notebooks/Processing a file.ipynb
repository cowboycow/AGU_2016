{
 "cells": [
  {
   "cell_type": "code",
   "execution_count": null,
   "metadata": {
    "collapsed": true
   },
   "outputs": [],
   "source": [
    "<center><h1> Notebook for processing one file</h1>\n",
    "*Scott Collis, Jonathan Helmus, Kirk North, Tim Lang*\n",
    "</center>\n"
   ]
  },
  {
   "cell_type": "code",
   "execution_count": 1,
   "metadata": {
    "collapsed": false
   },
   "outputs": [
    {
     "name": "stdout",
     "output_type": "stream",
     "text": [
      "\n",
      "## You are using the Python ARM Radar Toolkit (Py-ART), an open source\n",
      "## library for working with weather radar data.\n",
      "##\n",
      "## If you use this software to prepare a publication, please cite:\n",
      "##\n",
      "##     JJ Helmus and SM Collis, JORS 2016, doi: 10.5334/jors.119 \n"
     ]
    }
   ],
   "source": [
    "#needs to be running under pyart35 environment\n",
    "import pyart\n",
    "from matplotlib import pyplot as plt\n",
    "import matplotlib\n",
    "import numpy as np\n",
    "from scipy import ndimage, signal, integrate\n",
    "import time\n",
    "import copy\n",
    "import netCDF4\n",
    "import skfuzzy as fuzz\n",
    "import datetime\n",
    "import platform\n",
    "import fnmatch\n",
    "import os\n",
    "%matplotlib inline"
   ]
  },
  {
   "cell_type": "code",
   "execution_count": 5,
   "metadata": {
    "collapsed": false
   },
   "outputs": [
    {
     "data": {
      "text/plain": [
       "KeysView(environ({'DISPLAY': '/private/tmp/com.apple.launchd.1Z7Rw5OZ4y/org.macosforge.xquartz:0', 'SSH_AUTH_SOCK': '/private/tmp/com.apple.launchd.djbWw4kd4w/Listeners', '__CF_USER_TEXT_ENCODING': '0x57A95B9B:0x0:0x0', 'LSCOLORS': 'Gxfxcxdxbxegedabagacad', 'CONDA_PREFIX': '/Users/scollis/anaconda/envs/pyart35', 'XPC_FLAGS': '0x0', 'USER': 'scollis', 'XPC_SERVICE_NAME': '0', 'CONDA_DEFAULT_ENV': 'pyart35', 'ZSH': '/Users/scollis/.oh-my-zsh', 'SHELL': '/bin/zsh', 'LC_CTYPE': 'en_US.UTF-8', 'TERM_PROGRAM': 'Apple_Terminal', 'Apple_PubSub_Socket_Render': '/private/tmp/com.apple.launchd.4DQHApYHHb/Render', 'LOGNAME': 'scollis', 'TERM_SESSION_ID': '683226A2-A581-4E41-A4FB-B31B6B9CBA19', 'OLDPWD': '/Users/scollis', 'MPLBACKEND': 'module://ipykernel.pylab.backend_inline', 'PATH': '/Users/scollis/anaconda/envs/pyart35/bin:/Users/scollis/anaconda/bin:/usr/local/bin:/usr/bin:/bin:/usr/sbin:/sbin:/usr/texbin', '_': '/Users/scollis/anaconda/envs/pyart35/bin/jupyter', 'TMPDIR': '/var/folders/_y/mnq6xy3j6zlgnl_kk55wqm7nbtkpwv/T/', 'HOME': '/Users/scollis', 'LANG': 'en_US.UTF-8', 'CONDA_PATH_BACKUP': '/Users/scollis/anaconda/bin:/usr/local/bin:/usr/bin:/bin:/usr/sbin:/sbin:/usr/texbin', 'LESS': '-R', 'GIT_PAGER': 'cat', 'PWD': '/Users/scollis', 'PAGER': 'cat', 'CONDA_PS1_BACKUP': '${ret_status} %{$fg[cyan]%}%c%{$reset_color%} $(git_prompt_info)', 'SHLVL': '1', 'TERM': 'xterm-color', 'PS1': '(pyart35) ${ret_status} %{$fg[cyan]%}%c%{$reset_color%} $(git_prompt_info)', 'CLICOLOR': '1', 'JPY_PARENT_PID': '38488', 'TERM_PROGRAM_VERSION': '387'}))"
      ]
     },
     "execution_count": 5,
     "metadata": {},
     "output_type": "execute_result"
    }
   ],
   "source": [
    "os.environ.keys()\n",
    "#os.environ['DYLD_LIBRARY_PATH']"
   ]
  },
  {
   "cell_type": "code",
   "execution_count": 2,
   "metadata": {
    "collapsed": false
   },
   "outputs": [],
   "source": [
    "my_system = platform.system()\n",
    "if my_system == 'Darwin':\n",
    "    top = '/data/sample_sapr_data/sgpstage/sur/'\n",
    "    soundings_dir = '/data/sample_sapr_data/sgpstage/interp_sonde/'\n",
    "elif my_system == 'Linux':\n",
    "    top = '/lcrc/group/earthscience/radar/sgpstage/sur/'\n",
    "    soundings_dir = '/lcrc/group/earthscience/radar/interp_sonde/'"
   ]
  },
  {
   "cell_type": "code",
   "execution_count": 3,
   "metadata": {
    "collapsed": false
   },
   "outputs": [
    {
     "name": "stdout",
     "output_type": "stream",
     "text": [
      "dict_keys(['cross_correlation_ratio', 'velocity', 'differential_reflectivity', 'normalized_coherent_power', 'specific_differential_phase', 'reflectivity', 'differential_phase', 'spectrum_width'])\n"
     ]
    }
   ],
   "source": [
    "radar = pyart.io.read('/data/sample_sapr_data/sgpstage/sur/20110520/110635.mdv')\n",
    "print(radar.fields.keys())\n"
   ]
  },
  {
   "cell_type": "code",
   "execution_count": 4,
   "metadata": {
    "collapsed": true
   },
   "outputs": [],
   "source": [
    "i_end = 975\n",
    "radar.range['data']=radar.range['data'][0:i_end]\n",
    "for key in radar.fields.keys():\n",
    "    radar.fields[key]['data']= radar.fields[key]['data'][:, 0:i_end]\n",
    "radar.ngates = i_end"
   ]
  },
  {
   "cell_type": "code",
   "execution_count": 6,
   "metadata": {
    "collapsed": false
   },
   "outputs": [
    {
     "ename": "NameError",
     "evalue": "name 'radar' is not defined",
     "output_type": "error",
     "traceback": [
      "\u001b[0;31m---------------------------------------------------------------------------\u001b[0m",
      "\u001b[0;31mNameError\u001b[0m                                 Traceback (most recent call last)",
      "\u001b[0;32m<ipython-input-6-0a319b7605a4>\u001b[0m in \u001b[0;36m<module>\u001b[0;34m()\u001b[0m\n\u001b[1;32m      1\u001b[0m \u001b[0;34m\u001b[0m\u001b[0m\n\u001b[0;32m----> 2\u001b[0;31m \u001b[0mdisplay\u001b[0m \u001b[0;34m=\u001b[0m \u001b[0mpyart\u001b[0m\u001b[0;34m.\u001b[0m\u001b[0mgraph\u001b[0m\u001b[0;34m.\u001b[0m\u001b[0mRadarMapDisplay\u001b[0m\u001b[0;34m(\u001b[0m\u001b[0mradar\u001b[0m\u001b[0;34m)\u001b[0m\u001b[0;34m\u001b[0m\u001b[0m\n\u001b[0m\u001b[1;32m      3\u001b[0m \u001b[0mfig\u001b[0m \u001b[0;34m=\u001b[0m \u001b[0mplt\u001b[0m\u001b[0;34m.\u001b[0m\u001b[0mfigure\u001b[0m\u001b[0;34m(\u001b[0m\u001b[0mfigsize\u001b[0m \u001b[0;34m=\u001b[0m \u001b[0;34m[\u001b[0m\u001b[0;36m10\u001b[0m\u001b[0;34m,\u001b[0m\u001b[0;36m8\u001b[0m\u001b[0;34m]\u001b[0m\u001b[0;34m)\u001b[0m\u001b[0;34m\u001b[0m\u001b[0m\n\u001b[1;32m      4\u001b[0m display.plot_ppi_map('reflectivity', sweep = 2, resolution = 'i',\n\u001b[1;32m      5\u001b[0m                     \u001b[0mvmin\u001b[0m \u001b[0;34m=\u001b[0m \u001b[0;34m-\u001b[0m\u001b[0;36m10\u001b[0m\u001b[0;34m,\u001b[0m \u001b[0mvmax\u001b[0m \u001b[0;34m=\u001b[0m \u001b[0;36m64\u001b[0m\u001b[0;34m,\u001b[0m \u001b[0mmask_outside\u001b[0m \u001b[0;34m=\u001b[0m \u001b[0;32mFalse\u001b[0m\u001b[0;34m,\u001b[0m\u001b[0;34m\u001b[0m\u001b[0m\n",
      "\u001b[0;31mNameError\u001b[0m: name 'radar' is not defined"
     ]
    }
   ],
   "source": [
    "\n",
    "display = pyart.graph.RadarMapDisplay(radar)\n",
    "fig = plt.figure(figsize = [10,8])\n",
    "display.plot_ppi_map('reflectivity', sweep = 2, resolution = 'i',\n",
    "                    vmin = -10, vmax = 64, mask_outside = False,\n",
    "                    cmap = pyart.graph.cm.NWSRef)\n",
    "\n"
   ]
  },
  {
   "cell_type": "code",
   "execution_count": 5,
   "metadata": {
    "collapsed": false
   },
   "outputs": [
    {
     "name": "stdout",
     "output_type": "stream",
     "text": [
      "2011-05-20 11:01:00\n",
      "20110520 110100\n"
     ]
    }
   ],
   "source": [
    "#guess a whole heap of data\n",
    "radar_start_date = netCDF4.num2date(radar.time['data'][0], radar.time['units'])\n",
    "print(radar_start_date)\n",
    "ymd_string = datetime.datetime.strftime(radar_start_date, '%Y%m%d')\n",
    "hms_string = datetime.datetime.strftime(radar_start_date, '%H%M%S')\n",
    "print(ymd_string, hms_string)"
   ]
  },
  {
   "cell_type": "code",
   "execution_count": 6,
   "metadata": {
    "collapsed": false
   },
   "outputs": [
    {
     "name": "stdout",
     "output_type": "stream",
     "text": [
      "sgpinterpolatedsondeC1.c1.20110520.*.cdf sgpinterpolatedsondeC1.c1.20110520.000000.cdf\n"
     ]
    }
   ],
   "source": [
    "sonde_pattern = datetime.datetime.strftime(radar_start_date,'sgpinterpolatedsondeC1.c1.%Y%m%d.*.cdf')\n",
    "all_sonde_files = os.listdir(soundings_dir)\n",
    "sonde_name = fnmatch.filter(all_sonde_files, sonde_pattern)[0]\n",
    "print(sonde_pattern,sonde_name)"
   ]
  },
  {
   "cell_type": "code",
   "execution_count": null,
   "metadata": {
    "collapsed": false
   },
   "outputs": [],
   "source": [
    "interp_sonde = netCDF4.Dataset(os.path.join( soundings_dir, sonde_name))\n",
    "temperatures = interp_sonde.variables['temp'][:]\n",
    "times = interp_sonde.variables['time'][:]\n",
    "heights = interp_sonde.variables['height'][:]\n",
    "my_profile = pyart.retrieve.fetch_radar_time_profile(interp_sonde, radar)\n",
    "info_dict = {'long_name': 'Sounding temperature at gate',\n",
    "             'standard_name' : 'temperature',\n",
    "             'valid_min' : -100,\n",
    "             'valid_max' : 100,\n",
    "             'units' : 'degrees Celsius'}\n",
    "z_dict, temp_dict = pyart.retrieve.map_profile_to_gates( my_profile['temp'], \n",
    "                                         my_profile['height']*1000.0, \n",
    "                                         radar)\n",
    "radar.add_field('sounding_temperature', temp_dict, replace_existing = True)\n",
    "radar.add_field('height', z_dict, replace_existing = True)\n",
    "snr = pyart.retrieve.calculate_snr_from_reflectivity(radar)\n",
    "radar.add_field('SNR', snr, replace_existing = True)\n"
   ]
  },
  {
   "cell_type": "code",
   "execution_count": null,
   "metadata": {
    "collapsed": false
   },
   "outputs": [
    {
     "name": "stdout",
     "output_type": "stream",
     "text": [
      "Unfolding\n"
     ]
    },
    {
     "name": "stderr",
     "output_type": "stream",
     "text": [
      "/Users/scollis/anaconda/envs/pyart35/lib/python3.5/site-packages/pyart/correct/phase_proc.py:188: RuntimeWarning: invalid value encountered in sqrt\n",
      "  noise = smooth_and_trim(np.sqrt((line - signal) ** 2), window_len=wl)\n"
     ]
    },
    {
     "name": "stdout",
     "output_type": "stream",
     "text": [
      "Exec time:  14.490247964859009\n",
      "Doing  0\n"
     ]
    },
    {
     "name": "stderr",
     "output_type": "stream",
     "text": [
      "/Users/scollis/anaconda/envs/pyart35/lib/python3.5/site-packages/pyart/correct/phase_proc.py:589: MaskedArrayFutureWarning: setting an item on a masked array which has a shared mask will not copy the mask and also change the original mask array in the future.\n",
      "Check the NumPy 1.11 release notes for more information.\n",
      "  sct[np.where(sct < 0.0)] = 0.0\n"
     ]
    }
   ],
   "source": [
    "phidp, kdp = pyart.correct.phase_proc_lp(radar, 0.0, debug=True, fzl=3500.0)"
   ]
  },
  {
   "cell_type": "code",
   "execution_count": null,
   "metadata": {
    "collapsed": true
   },
   "outputs": [],
   "source": []
  }
 ],
 "metadata": {
  "kernelspec": {
   "display_name": "Python [pyart35]",
   "language": "python",
   "name": "Python [pyart35]"
  },
  "language_info": {
   "codemirror_mode": {
    "name": "ipython",
    "version": 3
   },
   "file_extension": ".py",
   "mimetype": "text/x-python",
   "name": "python",
   "nbconvert_exporter": "python",
   "pygments_lexer": "ipython3",
   "version": "3.5.2"
  }
 },
 "nbformat": 4,
 "nbformat_minor": 0
}
