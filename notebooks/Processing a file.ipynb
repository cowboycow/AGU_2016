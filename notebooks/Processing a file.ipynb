{
 "cells": [
  {
   "cell_type": "markdown",
   "metadata": {},
   "source": [
    "<center><h1> Notebook for processing one file</h1>\n",
    "*Scott Collis, Jonathan Helmus, Kirk North, Tim Lang*\n",
    "</center>\n"
   ]
  },
  {
   "cell_type": "code",
   "execution_count": 15,
   "metadata": {
    "collapsed": false
   },
   "outputs": [],
   "source": [
    "#needs to be running under pyart35 environment\n",
    "import pyart\n",
    "from matplotlib import pyplot as plt\n",
    "import matplotlib\n",
    "import numpy as np\n",
    "from scipy import ndimage, signal, integrate\n",
    "import time\n",
    "import copy\n",
    "import netCDF4\n",
    "import skfuzzy as fuzz\n",
    "import datetime\n",
    "import platform\n",
    "import fnmatch\n",
    "import os\n",
    "%matplotlib inline"
   ]
  },
  {
   "cell_type": "code",
   "execution_count": 13,
   "metadata": {
    "collapsed": false
   },
   "outputs": [],
   "source": [
    "my_system = platform.system()\n",
    "if my_system == 'Darwin':\n",
    "    top = '/data/sample_sapr_data/sgpstage/sur/'\n",
    "    soundings_dir = '/data/sample_sapr_data/sgpstage/interp_sonde/'\n",
    "elif my_system == 'Linux':\n",
    "    top = '/lcrc/group/earthscience/radar/sgpstage/sur/'\n",
    "    soundings_dir = '/lcrc/group/earthscience/radar/interp_sonde/'"
   ]
  },
  {
   "cell_type": "code",
   "execution_count": 19,
   "metadata": {
    "collapsed": false
   },
   "outputs": [
    {
     "name": "stdout",
     "output_type": "stream",
     "text": [
      "dict_keys(['specific_differential_phase', 'spectrum_width', 'differential_phase', 'velocity', 'reflectivity', 'cross_correlation_ratio', 'differential_reflectivity', 'normalized_coherent_power'])\n"
     ]
    }
   ],
   "source": [
    "radar = pyart.io.read('/data/sample_sapr_data/sgpstage/sur/20110520/110635.mdv')\n",
    "print(radar.fields.keys())\n"
   ]
  },
  {
   "cell_type": "code",
   "execution_count": 25,
   "metadata": {
    "collapsed": true
   },
   "outputs": [],
   "source": [
    "i_end = 975\n",
    "radar.range['data']=radar.range['data'][0:i_end]\n",
    "for key in radar.fields.keys():\n",
    "    radar.fields[key]['data']= radar.fields[key]['data'][:, 0:i_end]\n",
    "radar.ngates = i_end"
   ]
  },
  {
   "cell_type": "code",
   "execution_count": 20,
   "metadata": {
    "collapsed": false
   },
   "outputs": [
    {
     "name": "stdout",
     "output_type": "stream",
     "text": [
      "2011-05-20 11:01:00\n",
      "20110520 110100\n"
     ]
    }
   ],
   "source": [
    "#guess a whole heap of data\n",
    "radar_start_date = netCDF4.num2date(radar.time['data'][0], radar.time['units'])\n",
    "print(radar_start_date)\n",
    "ymd_string = datetime.datetime.strftime(radar_start_date, '%Y%m%d')\n",
    "hms_string = datetime.datetime.strftime(radar_start_date, '%H%M%S')\n",
    "print(ymd_string, hms_string)"
   ]
  },
  {
   "cell_type": "code",
   "execution_count": 22,
   "metadata": {
    "collapsed": false
   },
   "outputs": [
    {
     "name": "stdout",
     "output_type": "stream",
     "text": [
      "sgpinterpolatedsondeC1.c1.20110520.*.cdf sgpinterpolatedsondeC1.c1.20110520.000000.cdf\n"
     ]
    }
   ],
   "source": [
    "sonde_pattern = datetime.datetime.strftime(radar_start_date,'sgpinterpolatedsondeC1.c1.%Y%m%d.*.cdf')\n",
    "all_sonde_files = os.listdir(soundings_dir)\n",
    "sonde_name = fnmatch.filter(all_sonde_files, sonde_pattern)[0]\n",
    "print(sonde_pattern,sonde_name)"
   ]
  },
  {
   "cell_type": "code",
   "execution_count": 24,
   "metadata": {
    "collapsed": false
   },
   "outputs": [],
   "source": [
    "interp_sonde = netCDF4.Dataset(os.path.join( soundings_dir, sonde_name))\n",
    "temperatures = interp_sonde.variables['temp'][:]\n",
    "times = interp_sonde.variables['time'][:]\n",
    "heights = interp_sonde.variables['height'][:]\n",
    "my_profile = pyart.retrieve.fetch_radar_time_profile(interp_sonde, radar)\n",
    "info_dict = {'long_name': 'Sounding temperature at gate',\n",
    "             'standard_name' : 'temperature',\n",
    "             'valid_min' : -100,\n",
    "             'valid_max' : 100,\n",
    "             'units' : 'degrees Celsius'}\n",
    "z_dict, temp_dict = pyart.retrieve.map_profile_to_gates( my_profile['temp'], \n",
    "                                         my_profile['height']*1000.0, \n",
    "                                         radar)\n",
    "radar.add_field('sounding_temperature', temp_dict, replace_existing = True)\n",
    "radar.add_field('height', z_dict, replace_existing = True)\n",
    "snr = pyart.retrieve.calculate_snr_from_reflectivity(radar)\n",
    "radar.add_field('SNR', snr, replace_existing = True)\n"
   ]
  },
  {
   "cell_type": "code",
   "execution_count": null,
   "metadata": {
    "collapsed": true
   },
   "outputs": [],
   "source": []
  }
 ],
 "metadata": {
  "kernelspec": {
   "display_name": "Python [pyart35]",
   "language": "python",
   "name": "Python [pyart35]"
  },
  "language_info": {
   "codemirror_mode": {
    "name": "ipython",
    "version": 3
   },
   "file_extension": ".py",
   "mimetype": "text/x-python",
   "name": "python",
   "nbconvert_exporter": "python",
   "pygments_lexer": "ipython3",
   "version": "3.5.2"
  }
 },
 "nbformat": 4,
 "nbformat_minor": 0
}
